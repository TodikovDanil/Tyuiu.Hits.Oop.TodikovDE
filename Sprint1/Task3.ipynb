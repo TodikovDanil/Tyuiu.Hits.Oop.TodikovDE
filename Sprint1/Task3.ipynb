{
 "cells": [
  {
   "cell_type": "markdown",
   "metadata": {},
   "source": [
    "<h1 style=\"color:DodgerBlue\">Индивидальный проект</h1>"
   ]
  },
  {
   "cell_type": "markdown",
   "metadata": {},
   "source": [
    "<h2 style=\"color:DodgerBlue\">Название проекта:</h2>\n",
    "\n",
    "----\n",
    "\n",
    "### Вариант задания 17\n"
   ]
  },
  {
   "cell_type": "markdown",
   "metadata": {},
   "source": [
    "<h2 style=\"color:DodgerBlue\">Описание проекта:</h2>\n",
    "\n",
    "----\n",
    "\n",
    "Описание задачи: Создать базовый класс ShippingOption в C#, который будет представлять различные опции доставки. На основе этого класса разработать 2-3 производных класса, демонстрирующих принципы наследования и полиморфизма. В каждом из классов должны быть реализованы новые атрибуты и методы, а также переопределены некоторые методы базового класса для демонстрации полиморфизма.\n",
    "\n",
    "Требования к базовому классу ShippingOption: • Атрибуты: ID опции доставки (DeliveryOptionId), Название опции доставки (DeliveryOptionName), Стоимость доставки (Cost). • Методы: o CalculateCost(): метод для расчета стоимости доставки. o EstimateDeliveryTime(): метод для оценки времени доставки. o GetDeliveryDetails(): метод для получения деталей опции доставки.\n",
    "\n",
    "Требования к производным классам:\n",
    "\n",
    "СтандартнаяДоставка (StandardDelivery): Должна содержать дополнительные атрибуты, такие как Среднее время доставки (AverageDeliveryTime). Метод EstimateDeliveryTime() должен быть переопределен для предоставления среднего времени доставки.\n",
    "\n",
    "ЭкспрессДоставка (ExpressDelivery): Должна содержать дополнительные атрибуты, такие как Минимальное время доставки (MinDeliveryTime). Метод CalculateCost() должен быть переопределен для увеличения стоимости доставки в случае необходимости ускорения доставки.\n",
    "\n",
    "Самовывоз (Pickup) (если требуется третий класс): Должна содержать дополнительные атрибуты, такие как Адрес пункта самовывоза (PickupAddress). Метод GetDeliveryDetails() должен быть переопределен для отображения адреса пункта самовывоза.\n",
    "\n",
    "#### Дополнительное задание\n",
    "Добавьте к сущестующим классам конструктора классов с использованием гетторов и сетторов и реализуйте взаимодействие объектов между собой"
   ]
  },
  {
   "cell_type": "markdown",
   "metadata": {},
   "source": [
    "<h2 style=\"color:DodgerBlue\">Реализация:</h2>\n",
    "\n",
    "----"
   ]
  },
  {
   "cell_type": "code",
   "execution_count": null,
   "metadata": {
    "dotnet_interactive": {
     "language": "csharp"
    },
    "polyglot_notebook": {
     "kernelName": "csharp"
    }
   },
   "outputs": [
    {
     "name": "stdout",
     "output_type": "stream",
     "text": [
      "ID клиента: 1. Тип доставки: Стандартная доставка. Стоимость: 400Р\n",
      "Среднее время доставки: 7 дней.\n",
      "\n",
      "ID клиента: 2. Тип доставки: Экспресс доставка. Стоимость: 960Р\n",
      "Минимальное время доставки: 24 часа.\n",
      "\n",
      "ID клиента: 3. Тип доставки: Самовывоз. Стоимость: 0Р\n",
      "Адрес пункта самовывоза: Улица Газопромысловая 2.\n",
      "\n",
      "Сравнение стоимости доставки: Стандартная доставка и Экспресс доставка\n",
      "Стандартная доставка дешевле на 560Р.\n"
     ]
    }
   ],
   "source": [
    "public class ShippingOption\n",
    "{\n",
    "    public int DeliveryOptionId { get; set; }\n",
    "    public string DeliveryOptionName { get; set; }\n",
    "    public double Cost { get; set; }\n",
    "\n",
    "    public ShippingOption(int id, string name, double cost)\n",
    "    {\n",
    "        DeliveryOptionId = id;\n",
    "        DeliveryOptionName = name;\n",
    "        Cost = cost;\n",
    "    }\n",
    "\n",
    "    public virtual double CalculateCost() \n",
    "    {\n",
    "        return Cost;\n",
    "    }\n",
    "\n",
    "    public virtual string EstimateDeliveryTime()\n",
    "    {\n",
    "        return \"Срок доставки неизвестен.\";\n",
    "    }\n",
    "\n",
    "    public virtual void GetDeliveryDetails()\n",
    "    {\n",
    "        Console.WriteLine($\"ID клиента: {DeliveryOptionId}. Тип доставки: {DeliveryOptionName}. Стоимость: {CalculateCost()}Р\");\n",
    "    }\n",
    "}\n",
    "\n",
    "public class StandardDelivery : ShippingOption\n",
    "{\n",
    "    public TimeSpan AverageDeliveryTime { get; set; }\n",
    "\n",
    "    public StandardDelivery(int id, string name, double cost, TimeSpan averageDeliveryTime)\n",
    "        : base(id, name, cost)\n",
    "    {\n",
    "        AverageDeliveryTime = averageDeliveryTime;\n",
    "    }\n",
    "\n",
    "    public override string EstimateDeliveryTime()\n",
    "    {\n",
    "        return $\"Среднее время доставки: {AverageDeliveryTime.TotalDays} дней.\\n\";\n",
    "    }\n",
    "}\n",
    "\n",
    "public class ExpressDelivery : ShippingOption\n",
    "{\n",
    "    public TimeSpan MinDeliveryTime { get; set; }\n",
    "\n",
    "    public ExpressDelivery(int id, string name, double cost, TimeSpan minDeliveryTime)\n",
    "        : base(id, name, cost)\n",
    "    {\n",
    "        MinDeliveryTime = minDeliveryTime;\n",
    "    }\n",
    "\n",
    "    public override double CalculateCost() \n",
    "    {\n",
    "        // Увеличиваем стоимость на 30% за ускоренную доставку\n",
    "        return Cost * 1.30; \n",
    "    }\n",
    "\n",
    "    public override string EstimateDeliveryTime()\n",
    "    {\n",
    "        return $\"Минимальное время доставки: {MinDeliveryTime.TotalHours} часа.\\n\";\n",
    "    }\n",
    "\n",
    "}\n",
    "\n",
    "public class Pickup : ShippingOption\n",
    "{\n",
    "    public string PickupAddress { get; set; }\n",
    "\n",
    "    public Pickup(int id, string name, double cost, string pickupAddress)\n",
    "        : base(id, name, cost)\n",
    "    {\n",
    "        PickupAddress = pickupAddress;\n",
    "    }\n",
    "\n",
    "    public override void GetDeliveryDetails()\n",
    "    {\n",
    "        base.GetDeliveryDetails();\n",
    "        Console.WriteLine($\"Адрес пункта самовывоза: {PickupAddress}.\\n\");\n",
    "    }\n",
    "}\n",
    "\n",
    "private static void CompareShippingOptions(ShippingOption optionOne, ShippingOption optionTwo)\n",
    "{\n",
    "    Console.WriteLine($\"Сравнение стоимости доставки: {optionOne.DeliveryOptionName} и {optionTwo.DeliveryOptionName}\");\n",
    "    \n",
    "    if (optionOne.CalculateCost() < optionTwo.CalculateCost())\n",
    "        Console.WriteLine($\"{optionOne.DeliveryOptionName} дешевле на {optionTwo.CalculateCost() - optionOne.CalculateCost()}Р.\");\n",
    "    else if (optionOne.CalculateCost() > optionTwo.CalculateCost())\n",
    "        Console.WriteLine($\"{optionTwo.DeliveryOptionName} дешевле на {optionOne.CalculateCost() - optionTwo.CalculateCost()}Р.\");\n",
    "    else\n",
    "        Console.WriteLine(\"Обе доставки имеют одинаковую стоимость.\");\n",
    "}\n",
    "\n",
    "ShippingOption standard = new StandardDelivery(1, \"Стандартная доставка\", 300.0, TimeSpan.FromDays(7));\n",
    "ShippingOption express = new ExpressDelivery(2, \"Экспресс доставка\", 700.0, TimeSpan.FromHours(24));\n",
    "ShippingOption pickup = new Pickup(3, \"Самовывоз\", 0.0, \"Улица Мельникайте 70\");\n",
    "\n",
    "standard.GetDeliveryDetails();\n",
    "Console.WriteLine(standard.EstimateDeliveryTime());\n",
    "\n",
    "express.GetDeliveryDetails();\n",
    "Console.WriteLine(express.EstimateDeliveryTime());\n",
    "\n",
    "pickup.GetDeliveryDetails();\n",
    "\n",
    "CompareShippingOptions(standard, express);"
   ]
  }
 ],
 "metadata": {
  "kernelspec": {
   "display_name": ".NET (C#)",
   "language": "C#",
   "name": ".net-csharp"
  },
  "polyglot_notebook": {
   "kernelInfo": {
    "defaultKernelName": "csharp",
    "items": [
     {
      "aliases": [],
      "languageName": "csharp",
      "name": "csharp"
     }
    ]
   }
  }
 },
 "nbformat": 4,
 "nbformat_minor": 2
}
