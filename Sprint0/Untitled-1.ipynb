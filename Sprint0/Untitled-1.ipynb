{
 "cells": [
  {
   "cell_type": "code",
   "execution_count": 6,
   "id": "de4393cd",
   "metadata": {
    "language_info": {
     "name": "polyglot-notebook"
    },
    "polyglot_notebook": {
     "kernelName": "csharp"
    }
   },
   "outputs": [
    {
     "name": "stdout",
     "output_type": "stream",
     "text": [
      "Название магазина: Кристалл, Местоположение: Воточный, часы работы: Круглосуточно\n",
      "Имя: Даниил, ID: A1234, Зарплата: 3500.00, Контакты: todicdanil@example.com\n",
      "Name: Добрый, Price: 130.0, Quantity: 200, Category: Сок, Description: Яблочный сок\n"
     ]
    }
   ],
   "source": [
    "\n",
    "using System;\n",
    "using System.Collections.Generic;\n",
    "\n",
    "// Класс Товар (Product)\n",
    "public class Product\n",
    "{\n",
    "    private string name;\n",
    "    private decimal price;\n",
    "    private int quantity;\n",
    "    protected string category;\n",
    "    internal string description;\n",
    "\n",
    "    public Product(string name, decimal price, int quantity, string category, string description)\n",
    "    {\n",
    "        this.name = name;\n",
    "        this.price = price;\n",
    "        this.quantity = quantity;\n",
    "        this.category = category;\n",
    "        this.description = description;\n",
    "    }\n",
    "\n",
    "    public decimal GetTotalPrice()\n",
    "    {\n",
    "        return price * quantity;\n",
    "    }\n",
    "\n",
    "    public void UpdateQuantity(int amount)\n",
    "    {\n",
    "        quantity += amount;\n",
    "    }\n",
    "\n",
    "    public string GetProductInfo()\n",
    "    {\n",
    "        return $\"Name: {name}, Price: {price}, Quantity: {quantity}, Category: {category}, Description: {description}\";\n",
    "    }\n",
    "}\n",
    "\n",
    "// Класс Продавец (Seller)\n",
    "public class Seller\n",
    "{\n",
    "    private string name;\n",
    "    private string employeeId;\n",
    "    protected decimal salary;\n",
    "    internal string contactInfo;\n",
    "    private List<Product> products = new List<Product>();\n",
    "\n",
    "    public Seller(string name, string employeeId, decimal salary, string contactInfo)\n",
    "    {\n",
    "        this.name = name;\n",
    "        this.employeeId = employeeId;\n",
    "        this.salary = salary;\n",
    "        this.contactInfo = contactInfo;\n",
    "    }\n",
    "\n",
    "    public void AddProduct(Product product)\n",
    "    {\n",
    "        products.Add(product);\n",
    "    }\n",
    "\n",
    "    public void SellProduct(Product product, int quantity)\n",
    "    {\n",
    "        product.UpdateQuantity(-quantity);\n",
    "    }\n",
    "\n",
    "    public string GetSellerInfo()\n",
    "    {\n",
    "        return $\"Имя: {name}, ID: {employeeId}, Зарплата: {salary}, Контакты: {contactInfo}\";\n",
    "    }\n",
    "\n",
    "    // Чтобы магазин мог перечислить все товары продавца\n",
    "    public List<Product> GetProducts()\n",
    "    {\n",
    "        return products;\n",
    "    }\n",
    "}\n",
    "\n",
    "// Класс Магазин (Store)\n",
    "public class Store\n",
    "{\n",
    "    private string storeName;\n",
    "    private string location;\n",
    "    public string storeHours;\n",
    "    private List<Seller> sellers = new List<Seller>();\n",
    "\n",
    "    public Store(string storeName, string location, string storeHours)\n",
    "    {\n",
    "        this.storeName = storeName;\n",
    "        this.location = location;\n",
    "        this.storeHours = storeHours;\n",
    "    }\n",
    "\n",
    "    public void AddSeller(Seller seller)\n",
    "    {\n",
    "        sellers.Add(seller);\n",
    "    }\n",
    "\n",
    "    public void ListProducts()\n",
    "    {\n",
    "        foreach (var seller in sellers)\n",
    "        {\n",
    "            foreach (var product in seller.GetProducts())\n",
    "            {\n",
    "\n",
    "                Console.WriteLine(product.GetProductInfo());\n",
    "\n",
    "            }\n",
    "        }\n",
    "    }\n",
    "\n",
    "    public string GetStoreInfo()\n",
    "    {\n",
    "        return $\"Название магазина: {storeName}, Местоположение: {location}, часы работы: {storeHours}\";\n",
    "    }\n",
    "}\n",
    "        Product product = new Product(\"Добрый\", 130.0m, 200, \"Сок\", \"Яблочный сок\");\n",
    "        Seller seller = new Seller(\"Даниил\", \"A1234\", 3500.00m, \"todicdanil@example.com\");\n",
    "        seller.AddProduct(product);\n",
    "        Store store = new Store(\"Кристалл\", \"Воточный\", \"Круглосуточно\");\n",
    "        store.AddSeller(seller);\n",
    "\n",
    "        Console.WriteLine(store.GetStoreInfo());\n",
    "        Console.WriteLine(seller.GetSellerInfo());\n",
    "        store.ListProducts();"
   ]
  }
 ],
 "metadata": {
  "kernelspec": {
   "display_name": ".NET (C#)",
   "language": "C#",
   "name": ".net-csharp"
  },
  "language_info": {
   "name": "polyglot-notebook"
  },
  "polyglot_notebook": {
   "kernelInfo": {
    "defaultKernelName": "csharp",
    "items": [
     {
      "aliases": [],
      "languageName": "csharp",
      "name": "csharp"
     }
    ]
   }
  }
 },
 "nbformat": 4,
 "nbformat_minor": 5
}
