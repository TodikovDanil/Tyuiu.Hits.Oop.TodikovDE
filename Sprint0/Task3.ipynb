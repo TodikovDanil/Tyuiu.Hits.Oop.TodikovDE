{
 "cells": [
  {
   "cell_type": "markdown",
   "metadata": {},
   "source": [
    "<h1 style=\"color:DodgerBlue\">Индивидальный проект</h1>"
   ]
  },
  {
   "cell_type": "markdown",
   "metadata": {},
   "source": [
    "<h2 style=\"color:DodgerBlue\">Название проекта:</h2>\n",
    "\n",
    "----\n",
    "\n",
    "### Вариант задания 17\n"
   ]
  },
  {
   "cell_type": "markdown",
   "metadata": {},
   "source": [
    "<h2 style=\"color:DodgerBlue\">Описание проекта:</h2>\n",
    "\n",
    "----\n",
    "\n",
    "Создать базовый класс ShippingOption в C#, который будет представлять\n",
    "различные опции доставки. На основе этого класса разработать 2-3 производных\n",
    "класса, демонстрирующих принципы наследования и полиморфизма. В каждом из\n",
    "классов должны быть реализованы новые атрибуты и методы, а также\n",
    "переопределены некоторые методы базового класса для демонстрации\n",
    "полиморфизма.\n",
    "Требования к базовому классу ShippingOption:\n",
    "• Атрибуты: ID опции доставки (DeliveryOptionId), Название опции доставки\n",
    "(DeliveryOptionName), Стоимость доставки (Cost).\n",
    "• Методы:\n",
    "o CalculateCost(): метод для расчета стоимости доставки.\n",
    "o EstimateDeliveryTime(): метод для оценки времени доставки.\n",
    "o GetDeliveryDetails(): метод для получения деталей опции доставки.\n",
    "Требования к производным классам:\n",
    "1. СтандартнаяДоставка (StandardDelivery): Должна содержать\n",
    "дополнительные атрибуты, такие как Среднее время доставки\n",
    "(AverageDeliveryTime). Метод EstimateDeliveryTime() должен быть\n",
    "переопределен для предоставления среднего времени доставки.\n",
    "2. ЭкспрессДоставка (ExpressDelivery): Должна содержать дополнительные\n",
    "атрибуты, такие как Минимальное время доставки (MinDeliveryTime).\n",
    "Метод CalculateCost() должен быть переопределен для увеличения\n",
    "стоимости доставки в случае необходимости ускорения доставки.\n",
    "3. Самовывоз (Pickup) (если требуется третий класс): Должна содержать\n",
    "дополнительные атрибуты, такие как Адрес пункта самовывоза\n",
    "(PickupAddress). Метод GetDeliveryDetails() должен быть переопределен для\n",
    "отображения адреса пункта самовывоза.\n"
   ]
  },
  {
   "cell_type": "markdown",
   "metadata": {},
   "source": [
    "<h2 style=\"color:DodgerBlue\">Реализация:</h2>\n",
    "\n",
    "----"
   ]
  },
  {
   "cell_type": "code",
   "execution_count": null,
   "metadata": {
    "dotnet_interactive": {
     "language": "csharp"
    },
    "polyglot_notebook": {
     "kernelName": "csharp"
    }
   },
   "outputs": [
    {
     "name": "stdout",
     "output_type": "stream",
     "text": [
      "ID клиента: 1. Тип доставки: Стандартная доставка. Стоимость: 300Р\n",
      "Среднее время доставки: 3 дня.\n",
      "\n",
      "ID клиента: 2. Тип доставки: Экспресс доставка. Стоимость: 910Р\n",
      "Минимальное время доставки: 12 часов.\n",
      "\n",
      "ID клиента: 3. Тип доставки: Самовывоз. Стоимость: 0Р. Адрес пункта самовывоза: Улица Мельникайте 70.\n"
     ]
    }
   ],
   "source": [
    "public class ShippingOption\n",
    "{\n",
    "    public int DeliveryOptionId;\n",
    "    public string DeliveryOptionName;\n",
    "    public double Cost;\n",
    "\n",
    "    public ShippingOption(int id, string name, double cost)\n",
    "    {\n",
    "        DeliveryOptionId = id;\n",
    "        DeliveryOptionName = name;\n",
    "        Cost = cost;\n",
    "    }\n",
    "\n",
    "    public virtual double CalculateCost() \n",
    "    {\n",
    "        return Cost;\n",
    "    }\n",
    "\n",
    "    public virtual string EstimateDeliveryTime()\n",
    "    {\n",
    "        return \"Время доставки неизвестно.\";\n",
    "    }\n",
    "\n",
    "    public virtual string GetDeliveryDetails()\n",
    "    {\n",
    "        return $\"ID клиента: {DeliveryOptionId}. Тип доставки: {DeliveryOptionName}. Стоимость: {Cost}Р\";\n",
    "    }\n",
    "}\n",
    "\n",
    "public class StandardDelivery : ShippingOption\n",
    "{\n",
    "    public TimeSpan AverageDeliveryTime;\n",
    "\n",
    "    public StandardDelivery(int id, string name, double cost, TimeSpan averageDeliveryTime)\n",
    "        : base(id, name, cost)\n",
    "    {\n",
    "        AverageDeliveryTime = averageDeliveryTime;\n",
    "    }\n",
    "\n",
    "    public override string EstimateDeliveryTime()\n",
    "    {\n",
    "        return $\"Среднее время доставки: {AverageDeliveryTime.TotalDays} дня.\";\n",
    "    }\n",
    "}\n",
    "\n",
    "public class ExpressDelivery : ShippingOption\n",
    "{\n",
    "    public TimeSpan MinDeliveryTime;\n",
    "\n",
    "    public ExpressDelivery(int id, string name, double cost, TimeSpan minDeliveryTime)\n",
    "        : base(id, name, cost)\n",
    "    {\n",
    "        MinDeliveryTime = minDeliveryTime;\n",
    "    }\n",
    "\n",
    "    public override double CalculateCost() \n",
    "    {\n",
    "        // Увеличиваем стоимость на 30% за ускоренную доставку\n",
    "        return Cost * 1.30 ; // \n",
    "    }\n",
    "\n",
    "    public override string EstimateDeliveryTime()\n",
    "    {\n",
    "        return $\"Минимальное время доставки: {MinDeliveryTime.TotalHours} часов.\";\n",
    "    }\n",
    "\n",
    "    public override string GetDeliveryDetails()\n",
    "    {\n",
    "        // Выводим только увеличенную стоимость\n",
    "        return $\"ID клиента: {DeliveryOptionId}. Тип доставки: {DeliveryOptionName}. Стоимость: {CalculateCost()}Р\";\n",
    "    }\n",
    "}\n",
    "\n",
    "public class Pickup : ShippingOption\n",
    "{\n",
    "    public string PickupAddress;\n",
    "\n",
    "    public Pickup(int id, string name, double cost, string pickupAddress)\n",
    "        : base(id, name, cost)\n",
    "    {\n",
    "        PickupAddress = pickupAddress;\n",
    "    }\n",
    "\n",
    "    public override string GetDeliveryDetails()\n",
    "    {\n",
    "        return base.GetDeliveryDetails() + $\". Адрес пункта самовывоза: {PickupAddress}.\";\n",
    "    }\n",
    "}\n",
    "\n",
    "ShippingOption standard = new StandardDelivery(1, \"Стандартная доставка\", 300.0, TimeSpan.FromDays(3));\n",
    "ShippingOption express = new ExpressDelivery(2, \"Экспресс доставка\", 700.0, TimeSpan.FromHours(12));\n",
    "ShippingOption pickup = new Pickup(3, \"Самовывоз\", 0.0, \"Улица Мельникайте 70\");\n",
    "\n",
    "Console.WriteLine(standard.GetDeliveryDetails());\n",
    "Console.WriteLine(standard.EstimateDeliveryTime());\n",
    "Console.WriteLine();\n",
    "\n",
    "Console.WriteLine(express.GetDeliveryDetails());\n",
    "Console.WriteLine(express.EstimateDeliveryTime());\n",
    "Console.WriteLine();\n",
    "\n",
    "Console.WriteLine(pickup.GetDeliveryDetails());\n"
   ]
  }
 ],
 "metadata": {
  "kernelspec": {
   "display_name": ".NET (C#)",
   "language": "C#",
   "name": ".net-csharp"
  },
  "polyglot_notebook": {
   "kernelInfo": {
    "defaultKernelName": "csharp",
    "items": [
     {
      "aliases": [],
      "languageName": "csharp",
      "name": "csharp"
     }
    ]
   }
  }
 },
 "nbformat": 4,
 "nbformat_minor": 2
}
